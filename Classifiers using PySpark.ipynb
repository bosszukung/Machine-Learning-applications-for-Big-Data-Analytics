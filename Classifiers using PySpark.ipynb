{
  "cells": [
    {
      "cell_type": "markdown",
      "metadata": {
        "id": "Lx9-Fre4FMda"
      },
      "source": [
        "# **Machine Learning on Big Data (CN7030) CRWK 21-22**\n",
        "# **Group ID: 11**\n",
        "1.   Student 1: Aekkaraj Kuplakatee ID: u2235955\n",
        "2.   Student 2: Stevin Sam ID: u1802868\n",
        "---\n",
        "#####Module leader: **Dr Amin Karami** (a.karami@uel.ac.uk)"
      ]
    },
    {
      "cell_type": "markdown",
      "metadata": {
        "id": "GdMZR-9QTwG3"
      },
      "source": [
        "\n",
        "# **Initiate and Configure Spark**\n",
        "\n",
        "---\n"
      ]
    },
    {
      "cell_type": "code",
      "execution_count": null,
      "metadata": {
        "colab": {
          "base_uri": "https://localhost:8080/"
        },
        "id": "_z0p88Xtw_3-",
        "outputId": "bb488bd6-9f49-4967-893b-b283817dcab7"
      },
      "outputs": [
        {
          "output_type": "stream",
          "name": "stdout",
          "text": [
            "Looking in indexes: https://pypi.org/simple, https://us-python.pkg.dev/colab-wheels/public/simple/\n",
            "Collecting pyspark\n",
            "  Downloading pyspark-3.3.0.tar.gz (281.3 MB)\n",
            "\u001b[K     |████████████████████████████████| 281.3 MB 43 kB/s \n",
            "\u001b[?25hCollecting py4j==0.10.9.5\n",
            "  Downloading py4j-0.10.9.5-py2.py3-none-any.whl (199 kB)\n",
            "\u001b[K     |████████████████████████████████| 199 kB 72.1 MB/s \n",
            "\u001b[?25hBuilding wheels for collected packages: pyspark\n",
            "  Building wheel for pyspark (setup.py) ... \u001b[?25l\u001b[?25hdone\n",
            "  Created wheel for pyspark: filename=pyspark-3.3.0-py2.py3-none-any.whl size=281764026 sha256=35afe60f4988626589a50df9c943af5ae58968ad3b76f90cf6913a1df019f282\n",
            "  Stored in directory: /root/.cache/pip/wheels/7a/8e/1b/f73a52650d2e5f337708d9f6a1750d451a7349a867f928b885\n",
            "Successfully built pyspark\n",
            "Installing collected packages: py4j, pyspark\n",
            "Successfully installed py4j-0.10.9.5 pyspark-3.3.0\n",
            "Looking in indexes: https://pypi.org/simple, https://us-python.pkg.dev/colab-wheels/public/simple/\n",
            "Collecting findspark\n",
            "  Downloading findspark-2.0.1-py2.py3-none-any.whl (4.4 kB)\n",
            "Installing collected packages: findspark\n",
            "Successfully installed findspark-2.0.1\n"
          ]
        }
      ],
      "source": [
        "#install Apache Spark framwork using python programming language\n",
        "\n",
        "#install pyspark for python API to interact with spark\n",
        "!pip3 install pyspark\n",
        "#Install findspark to set up spark environment \n",
        "!pip3 install findspark"
      ]
    },
    {
      "cell_type": "code",
      "execution_count": null,
      "metadata": {
        "colab": {
          "base_uri": "https://localhost:8080/"
        },
        "id": "k_jPy3u8tMN1",
        "outputId": "74e80786-42f9-4a66-86cd-8780453f0912"
      },
      "outputs": [
        {
          "output_type": "stream",
          "name": "stdout",
          "text": [
            "openjdk version \"11.0.15\" 2022-04-19\n",
            "OpenJDK Runtime Environment (build 11.0.15+10-Ubuntu-0ubuntu0.18.04.1)\n",
            "OpenJDK 64-Bit Server VM (build 11.0.15+10-Ubuntu-0ubuntu0.18.04.1, mixed mode, sharing)\n"
          ]
        }
      ],
      "source": [
        "import os       #importing os to set environment variable\n",
        "def install_java():\n",
        "  !apt-get install -y openjdk-8-jdk-headless -qq > /dev/null      #install openjdk\n",
        "  !java -version       #check java version\n",
        "install_java()"
      ]
    },
    {
      "cell_type": "code",
      "execution_count": null,
      "metadata": {
        "id": "44NzQmUOtTb2"
      },
      "outputs": [],
      "source": [
        "#Configure local Spark using spark session\n",
        "from pyspark.sql import SparkSession\n",
        "\n",
        "#Initate Sapark Session to interact with the dataframe \n",
        "spark = SparkSession\\\n",
        "  .builder\\\n",
        "  .appName(\"G11_ML_Classification\")\\\n",
        "  .config(\"spark.some.config.option\", \"some-value\")\\\n",
        "  .getOrCreate()"
      ]
    },
    {
      "cell_type": "code",
      "execution_count": null,
      "metadata": {
        "id": "GOZzywJB6Hom"
      },
      "outputs": [],
      "source": [
        "#Importing libraries\n",
        "from google.colab import drive\n",
        "import pyspark.sql.functions as F\n",
        "import numpy as np\n",
        "from pyspark.sql.functions import when\n",
        "from pyspark.sql.types import StringType, DoubleType\n",
        "from pyspark.ml.feature import Imputer\n",
        "from pyspark.sql.functions import col,isnan,count\n",
        "from pyspark.ml.feature import StringIndexer, VectorIndexer\n",
        "from pyspark.ml.feature import OneHotEncoder\n",
        "from pyspark.ml.feature import VectorAssembler\n",
        "from pyspark.ml.linalg import Vectors\n",
        "from pyspark.ml.feature import StandardScaler\n",
        "from pyspark.ml.feature import UnivariateFeatureSelector\n",
        "from pyspark.ml.classification import LogisticRegression\n",
        "from pyspark.ml.evaluation import BinaryClassificationEvaluator\n",
        "from pyspark.ml.classification import RandomForestClassifier\n",
        "from pyspark.ml.classification import NaiveBayes\n",
        "from pyspark.ml.feature import IndexToString\n",
        "from pyspark.ml import Pipeline\n",
        "from pyspark.ml.evaluation import MulticlassClassificationEvaluator\n",
        "import plotly.graph_objects as go\n",
        "import matplotlib.pyplot as plt\n",
        "import itertools\n",
        "from sklearn.metrics import confusion_matrix"
      ]
    },
    {
      "cell_type": "markdown",
      "metadata": {
        "id": "6P2CZVl6TOQX"
      },
      "source": [
        "\n",
        "# **Load Data**\n",
        "\n",
        "---\n"
      ]
    },
    {
      "cell_type": "code",
      "execution_count": null,
      "metadata": {
        "colab": {
          "base_uri": "https://localhost:8080/"
        },
        "id": "hc5GMMvdh5jD",
        "outputId": "a8236597-0230-4f57-eca6-c88b569a8569"
      },
      "outputs": [
        {
          "output_type": "stream",
          "name": "stdout",
          "text": [
            "Drive already mounted at /content/drive; to attempt to forcibly remount, call drive.mount(\"/content/drive\", force_remount=True).\n"
          ]
        }
      ],
      "source": [
        "#Access the dataset through google drive\n",
        "\n",
        "drive.mount('/content/drive')"
      ]
    },
    {
      "cell_type": "code",
      "execution_count": null,
      "metadata": {
        "id": "xXgJQWm8s_zT"
      },
      "outputs": [],
      "source": [
        "#Load the dataset\n",
        "\n",
        "DF = spark.read.csv('drive/My Drive/Machine Learning/UNSW-NB15.csv',inferSchema=True, header=None)"
      ]
    },
    {
      "cell_type": "markdown",
      "source": [
        "# **Data Preprocessing**"
      ],
      "metadata": {
        "id": "X923gIP__mY4"
      }
    },
    {
      "cell_type": "code",
      "source": [
        "#Assign the header columns to dataset\n",
        "new_col_names = ['Srcip', 'Sport', 'Dstip', 'Dsport','Proto', 'State', 'Dur', 'Sbytes', 'Dbytes', 'Sttl', 'Dttl', 'Sloss', 'Dloss', 'Service', 'Sload', \n",
        "            'Dload', 'Spkts', 'Dpkts', 'Swin', 'Dwin', 'Stcpb', 'Dtcpb', 'Smeansz', 'Dmeansz', 'Trans_depth', 'Res_bdy_len', 'Sjit', 'Djit', 'Stime', \n",
        "            'Ltime', 'Sintpkt', 'Dintpkt', 'Tcprtt', 'Synack', 'Ackdat', 'Is_sm_ips_ports', 'Ct_state_ttl', 'Ct_flw_http_mthd', 'Is_ftp_login', 'Ct_ftp_cmd',\n",
        "            'Ct_srv_src', 'Ct_srv_dst', 'Ct_dst_ltm', 'Ct_src_ltm', 'Ct_src_dport_ltm', 'Ct_dst_sport_ltm', 'Ct_dst_src_ltm', 'Attack_cat', 'Label']\n",
        "\n",
        "#Add the header columns to the dataframe\n",
        "DF = DF.toDF(*new_col_names)"
      ],
      "metadata": {
        "id": "XSqhSYZc_k-E"
      },
      "execution_count": null,
      "outputs": []
    },
    {
      "cell_type": "code",
      "source": [
        "#Chechk how manny 0 values are in the dataset\n",
        "DF.select([F.count(F.when(DF[c] == 0, c)).alias(c) for c in DF.columns]).show(truncate=False, vertical=True)"
      ],
      "metadata": {
        "id": "mrOeJ0J__6R0",
        "colab": {
          "base_uri": "https://localhost:8080/"
        },
        "outputId": "cc47cfcb-55f9-48b1-c72d-0020d121158b"
      },
      "execution_count": null,
      "outputs": [
        {
          "output_type": "stream",
          "name": "stdout",
          "text": [
            "-RECORD 0-------------------\n",
            " Srcip            | 0       \n",
            " Sport            | 54043   \n",
            " Dstip            | 0       \n",
            " Dsport           | 54088   \n",
            " Proto            | 0       \n",
            " State            | 0       \n",
            " Dur              | 8308    \n",
            " Sbytes           | 9       \n",
            " Dbytes           | 499901  \n",
            " Sttl             | 10447   \n",
            " Dttl             | 505769  \n",
            " Sloss            | 1046943 \n",
            " Dloss            | 1050130 \n",
            " Service          | 0       \n",
            " Sload            | 5104    \n",
            " Dload            | 500366  \n",
            " Spkts            | 9       \n",
            " Dpkts            | 499901  \n",
            " Swin             | 1044685 \n",
            " Dwin             | 1048108 \n",
            " Stcpb            | 1047558 \n",
            " Dtcpb            | 1047883 \n",
            " Smeansz          | 9       \n",
            " Dmeansz          | 499901  \n",
            " Trans_depth      | 2334617 \n",
            " Res_bdy_len      | 2352987 \n",
            " Sjit             | 963103  \n",
            " Djit             | 899546  \n",
            " Stime            | 0       \n",
            " Ltime            | 0       \n",
            " Sintpkt          | 1438    \n",
            " Dintpkt          | 500400  \n",
            " Tcprtt           | 1054715 \n",
            " Synack           | 1054715 \n",
            " Ackdat           | 1055117 \n",
            " Is_sm_ips_ports  | 2535544 \n",
            " Ct_state_ttl     | 2177879 \n",
            " Ct_flw_http_mthd | 2334628 \n",
            " Is_ftp_login     | 2496164 \n",
            " Ct_ftp_cmd       | 2496069 \n",
            " Ct_srv_src       | 0       \n",
            " Ct_srv_dst       | 0       \n",
            " Ct_dst_ltm       | 0       \n",
            " Ct_src_ltm       | 0       \n",
            " Ct_src_dport_ltm | 0       \n",
            " Ct_dst_sport_ltm | 0       \n",
            " Ct_dst_src_ltm   | 0       \n",
            " Attack_cat       | 0       \n",
            " Label            | 2218456 \n",
            "\n"
          ]
        }
      ]
    },
    {
      "cell_type": "code",
      "source": [
        "#Clean the dataset by changing all of the 0 values to nan values\n",
        "for zCol in DF.columns: DF = DF.withColumn(zCol,when(DF[zCol] ==0,np.nan).otherwise(DF[zCol]))\n",
        "#Because we will use Label column to perform binary classification. SO, we change nan values back to 0 values\n",
        "DF = DF.withColumn(\"Label\",when(DF.Label == np.nan,0).otherwise(DF.Label))\n",
        "#Set all missing values in the Attack_cat column to \"Noattack\" \n",
        "DF = DF.withColumn(\"Attack_cat\",when(DF.Attack_cat.isNull(), \"NoAttack\").otherwise (DF.Attack_cat))\n",
        "\n",
        "DF.show(2,truncate=False,vertical=True)"
      ],
      "metadata": {
        "id": "Eq6YBJYU_6N1",
        "colab": {
          "base_uri": "https://localhost:8080/"
        },
        "outputId": "fe0770c1-78d4-433a-cfb2-467ebd3d3166"
      },
      "execution_count": null,
      "outputs": [
        {
          "output_type": "stream",
          "name": "stdout",
          "text": [
            "-RECORD 0-------------------------\n",
            " Srcip            | 59.166.0.3    \n",
            " Sport            | 56716.0       \n",
            " Dstip            | 149.171.126.8 \n",
            " Dsport           | 143.0         \n",
            " Proto            | tcp           \n",
            " State            | FIN           \n",
            " Dur              | 0.82546002    \n",
            " Sbytes           | 7812.0        \n",
            " Dbytes           | 16236.0       \n",
            " Sttl             | 31.0          \n",
            " Dttl             | 29.0          \n",
            " Sloss            | 30.0          \n",
            " Dloss            | 32.0          \n",
            " Service          | -             \n",
            " Sload            | 75090.25      \n",
            " Dload            | 156111.73     \n",
            " Spkts            | 122.0         \n",
            " Dpkts            | 126.0         \n",
            " Swin             | 255.0         \n",
            " Dwin             | 255.0         \n",
            " Stcpb            | 2.751097753E9 \n",
            " Dtcpb            | 2.748686736E9 \n",
            " Smeansz          | 64.0          \n",
            " Dmeansz          | 129.0         \n",
            " Trans_depth      | NaN           \n",
            " Res_bdy_len      | NaN           \n",
            " Sjit             | 445.25928     \n",
            " Djit             | 474.9451      \n",
            " Stime            | 1.421970774E9 \n",
            " Ltime            | 1.421970775E9 \n",
            " Sintpkt          | 6.8190908     \n",
            " Dintpkt          | 6.599896      \n",
            " Tcprtt           | 5.9700001E-4  \n",
            " Synack           | 4.6899999E-4  \n",
            " Ackdat           | 1.28E-4       \n",
            " Is_sm_ips_ports  | NaN           \n",
            " Ct_state_ttl     | NaN           \n",
            " Ct_flw_http_mthd | NaN           \n",
            " Is_ftp_login     | NaN           \n",
            " Ct_ftp_cmd       | NaN           \n",
            " Ct_srv_src       | 2.0           \n",
            " Ct_srv_dst       | 7.0           \n",
            " Ct_dst_ltm       | 1.0           \n",
            " Ct_src_ltm       | 4.0           \n",
            " Ct_src_dport_ltm | 1.0           \n",
            " Ct_dst_sport_ltm | 1.0           \n",
            " Ct_dst_src_ltm   | 1.0           \n",
            " Attack_cat       | NoAttack      \n",
            " Label            | 0.0           \n",
            "-RECORD 1-------------------------\n",
            " Srcip            | 59.166.0.0    \n",
            " Sport            | 43467.0       \n",
            " Dstip            | 149.171.126.6 \n",
            " Dsport           | 49729.0       \n",
            " Proto            | tcp           \n",
            " State            | FIN           \n",
            " Dur              | 0.101815      \n",
            " Sbytes           | 4238.0        \n",
            " Dbytes           | 65628.0       \n",
            " Sttl             | 31.0          \n",
            " Dttl             | 29.0          \n",
            " Sloss            | 7.0           \n",
            " Dloss            | 30.0          \n",
            " Service          | -             \n",
            " Sload            | 328438.84     \n",
            " Dload            | 5087030.5     \n",
            " Spkts            | 72.0          \n",
            " Dpkts            | 74.0          \n",
            " Swin             | 255.0         \n",
            " Dwin             | 255.0         \n",
            " Stcpb            | 9.61515433E8  \n",
            " Dtcpb            | 3.225510659E9 \n",
            " Smeansz          | 59.0          \n",
            " Dmeansz          | 887.0         \n",
            " Trans_depth      | NaN           \n",
            " Res_bdy_len      | NaN           \n",
            " Sjit             | NaN           \n",
            " Djit             | 91.579567     \n",
            " Stime            | 1.421970775E9 \n",
            " Ltime            | 1.421970775E9 \n",
            " Sintpkt          | 1.429493      \n",
            " Dintpkt          | 1.387192      \n",
            " Tcprtt           | 6.8E-4        \n",
            " Synack           | 5.4600002E-4  \n",
            " Ackdat           | 1.34E-4       \n",
            " Is_sm_ips_ports  | NaN           \n",
            " Ct_state_ttl     | NaN           \n",
            " Ct_flw_http_mthd | NaN           \n",
            " Is_ftp_login     | NaN           \n",
            " Ct_ftp_cmd       | NaN           \n",
            " Ct_srv_src       | 7.0           \n",
            " Ct_srv_dst       | 4.0           \n",
            " Ct_dst_ltm       | 1.0           \n",
            " Ct_src_ltm       | 6.0           \n",
            " Ct_src_dport_ltm | 1.0           \n",
            " Ct_dst_sport_ltm | 1.0           \n",
            " Ct_dst_src_ltm   | 1.0           \n",
            " Attack_cat       | NoAttack      \n",
            " Label            | 0.0           \n",
            "only showing top 2 rows\n",
            "\n"
          ]
        }
      ]
    },
    {
      "cell_type": "code",
      "source": [
        "# seperate the string from integer columns to be able to process the Imputer\n",
        "strCols = [f.name for f in DF.schema.fields if isinstance(f.dataType, StringType)]\n",
        "dblCols = [f.name for f in DF.schema.fields if isinstance(f.dataType, DoubleType)]\n",
        "\n",
        "# fill the missing values with the imputer function\n",
        "imputer=Imputer(inputCols=dblCols,outputCols=dblCols)\n",
        "model=imputer.fit(DF)\n",
        "DF=model.transform(DF)\n",
        "\n",
        "DF.show(2,truncate=False,vertical=True)"
      ],
      "metadata": {
        "id": "twUzOoan_6H3",
        "colab": {
          "base_uri": "https://localhost:8080/"
        },
        "outputId": "3475be84-d0eb-44f7-bf52-2d64751aec7f"
      },
      "execution_count": null,
      "outputs": [
        {
          "output_type": "stream",
          "name": "stdout",
          "text": [
            "-RECORD 0------------------------------\n",
            " Srcip            | 59.166.0.3         \n",
            " Sport            | 56716.0            \n",
            " Dstip            | 149.171.126.8      \n",
            " Dsport           | 143.0              \n",
            " Proto            | tcp                \n",
            " State            | FIN                \n",
            " Dur              | 0.82546002         \n",
            " Sbytes           | 7812.0             \n",
            " Dbytes           | 16236.0            \n",
            " Sttl             | 31.0               \n",
            " Dttl             | 29.0               \n",
            " Sloss            | 30.0               \n",
            " Dloss            | 32.0               \n",
            " Service          | -                  \n",
            " Sload            | 75090.25           \n",
            " Dload            | 156111.73          \n",
            " Spkts            | 122.0              \n",
            " Dpkts            | 126.0              \n",
            " Swin             | 255.0              \n",
            " Dwin             | 255.0              \n",
            " Stcpb            | 2.751097753E9      \n",
            " Dtcpb            | 2.748686736E9      \n",
            " Smeansz          | 64.0               \n",
            " Dmeansz          | 129.0              \n",
            " Trans_depth      | 1.0309328107175242 \n",
            " Res_bdy_len      | 57697.795070467786 \n",
            " Sjit             | 445.25928          \n",
            " Djit             | 474.9451           \n",
            " Stime            | 1.421970774E9      \n",
            " Ltime            | 1.421970775E9      \n",
            " Sintpkt          | 6.8190908          \n",
            " Dintpkt          | 6.599896           \n",
            " Tcprtt           | 5.9700001E-4       \n",
            " Synack           | 4.6899999E-4       \n",
            " Ackdat           | 1.28E-4            \n",
            " Is_sm_ips_ports  | 1.0                \n",
            " Ct_state_ttl     | 1.8331426518543084 \n",
            " Ct_flw_http_mthd | 1.363178961635407  \n",
            " Is_ftp_login     | 1.0114285714285713 \n",
            " Ct_ftp_cmd       | 1.1957407831463247 \n",
            " Ct_srv_src       | 2.0                \n",
            " Ct_srv_dst       | 7.0                \n",
            " Ct_dst_ltm       | 1.0                \n",
            " Ct_src_ltm       | 4.0                \n",
            " Ct_src_dport_ltm | 1.0                \n",
            " Ct_dst_sport_ltm | 1.0                \n",
            " Ct_dst_src_ltm   | 1.0                \n",
            " Attack_cat       | NoAttack           \n",
            " Label            | 0.0                \n",
            "-RECORD 1------------------------------\n",
            " Srcip            | 59.166.0.0         \n",
            " Sport            | 43467.0            \n",
            " Dstip            | 149.171.126.6      \n",
            " Dsport           | 49729.0            \n",
            " Proto            | tcp                \n",
            " State            | FIN                \n",
            " Dur              | 0.101815           \n",
            " Sbytes           | 4238.0             \n",
            " Dbytes           | 65628.0            \n",
            " Sttl             | 31.0               \n",
            " Dttl             | 29.0               \n",
            " Sloss            | 7.0                \n",
            " Dloss            | 30.0               \n",
            " Service          | -                  \n",
            " Sload            | 328438.84          \n",
            " Dload            | 5087030.5          \n",
            " Spkts            | 72.0               \n",
            " Dpkts            | 74.0               \n",
            " Swin             | 255.0              \n",
            " Dwin             | 255.0              \n",
            " Stcpb            | 9.61515433E8       \n",
            " Dtcpb            | 3.225510659E9      \n",
            " Smeansz          | 59.0               \n",
            " Dmeansz          | 887.0              \n",
            " Trans_depth      | 1.0309328107175242 \n",
            " Res_bdy_len      | 57697.795070467786 \n",
            " Sjit             | 2559.9043265773203 \n",
            " Djit             | 91.579567          \n",
            " Stime            | 1.421970775E9      \n",
            " Ltime            | 1.421970775E9      \n",
            " Sintpkt          | 1.429493           \n",
            " Dintpkt          | 1.387192           \n",
            " Tcprtt           | 6.8E-4             \n",
            " Synack           | 5.4600002E-4       \n",
            " Ackdat           | 1.34E-4            \n",
            " Is_sm_ips_ports  | 1.0                \n",
            " Ct_state_ttl     | 1.8331426518543084 \n",
            " Ct_flw_http_mthd | 1.363178961635407  \n",
            " Is_ftp_login     | 1.0114285714285713 \n",
            " Ct_ftp_cmd       | 1.1957407831463247 \n",
            " Ct_srv_src       | 7.0                \n",
            " Ct_srv_dst       | 4.0                \n",
            " Ct_dst_ltm       | 1.0                \n",
            " Ct_src_ltm       | 6.0                \n",
            " Ct_src_dport_ltm | 1.0                \n",
            " Ct_dst_sport_ltm | 1.0                \n",
            " Ct_dst_src_ltm   | 1.0                \n",
            " Attack_cat       | NoAttack           \n",
            " Label            | 0.0                \n",
            "only showing top 2 rows\n",
            "\n"
          ]
        }
      ]
    },
    {
      "cell_type": "code",
      "source": [
        "#check the missing values for both nan and null \n",
        "DF.select([count(when(isnan(c) | col(c).isNull(), c)).alias(c) for c in DF.columns]).show(truncate=False,vertical=True)"
      ],
      "metadata": {
        "id": "MFxK947D_6Bz",
        "colab": {
          "base_uri": "https://localhost:8080/"
        },
        "outputId": "3a018564-fe3e-4c0b-ea51-0e3746158969"
      },
      "execution_count": null,
      "outputs": [
        {
          "output_type": "stream",
          "name": "stdout",
          "text": [
            "-RECORD 0---------------\n",
            " Srcip            | 0   \n",
            " Sport            | 0   \n",
            " Dstip            | 0   \n",
            " Dsport           | 0   \n",
            " Proto            | 0   \n",
            " State            | 0   \n",
            " Dur              | 0   \n",
            " Sbytes           | 0   \n",
            " Dbytes           | 0   \n",
            " Sttl             | 0   \n",
            " Dttl             | 0   \n",
            " Sloss            | 0   \n",
            " Dloss            | 0   \n",
            " Service          | 0   \n",
            " Sload            | 0   \n",
            " Dload            | 0   \n",
            " Spkts            | 0   \n",
            " Dpkts            | 0   \n",
            " Swin             | 0   \n",
            " Dwin             | 0   \n",
            " Stcpb            | 0   \n",
            " Dtcpb            | 0   \n",
            " Smeansz          | 0   \n",
            " Dmeansz          | 0   \n",
            " Trans_depth      | 0   \n",
            " Res_bdy_len      | 0   \n",
            " Sjit             | 0   \n",
            " Djit             | 0   \n",
            " Stime            | 0   \n",
            " Ltime            | 0   \n",
            " Sintpkt          | 0   \n",
            " Dintpkt          | 0   \n",
            " Tcprtt           | 0   \n",
            " Synack           | 0   \n",
            " Ackdat           | 0   \n",
            " Is_sm_ips_ports  | 0   \n",
            " Ct_state_ttl     | 0   \n",
            " Ct_flw_http_mthd | 0   \n",
            " Is_ftp_login     | 0   \n",
            " Ct_ftp_cmd       | 0   \n",
            " Ct_srv_src       | 0   \n",
            " Ct_srv_dst       | 0   \n",
            " Ct_dst_ltm       | 0   \n",
            " Ct_src_ltm       | 0   \n",
            " Ct_src_dport_ltm | 0   \n",
            " Ct_dst_sport_ltm | 0   \n",
            " Ct_dst_src_ltm   | 0   \n",
            " Attack_cat       | 0   \n",
            " Label            | 0   \n",
            "\n"
          ]
        }
      ]
    },
    {
      "cell_type": "code",
      "source": [
        "#numeric indexing for the strings (indexing starts from 0)\n",
        "for cols in strCols:\n",
        "    indexer = StringIndexer(inputCol=cols, outputCol=cols+\"_index\")\n",
        "#fit the indexer model and use it to transform the strings into numeric indices\n",
        "DF = indexer.fit(DF).transform(DF)\n",
        "\n",
        "#one-hot-encoding the numeric indices\n",
        "for cols in strCols:\n",
        "  ohe = OneHotEncoder(inputCol=cols+\"_index\" , outputCol=cols+\"_OHEVector\")\n",
        "#fit the ohe model and use it to transform the numeric indices into ohe vectors\n",
        "DF = ohe.fit(DF).transform(DF)\n",
        "\n",
        "DF.show(1,truncate=False, vertical=True)"
      ],
      "metadata": {
        "id": "bBBzvohc_5_q",
        "colab": {
          "base_uri": "https://localhost:8080/"
        },
        "outputId": "a1ca420d-0e07-4f9f-a050-5267049b1441"
      },
      "execution_count": null,
      "outputs": [
        {
          "output_type": "stream",
          "name": "stdout",
          "text": [
            "-RECORD 0----------------------------------\n",
            " Srcip                | 59.166.0.3         \n",
            " Sport                | 56716.0            \n",
            " Dstip                | 149.171.126.8      \n",
            " Dsport               | 143.0              \n",
            " Proto                | tcp                \n",
            " State                | FIN                \n",
            " Dur                  | 0.82546002         \n",
            " Sbytes               | 7812.0             \n",
            " Dbytes               | 16236.0            \n",
            " Sttl                 | 31.0               \n",
            " Dttl                 | 29.0               \n",
            " Sloss                | 30.0               \n",
            " Dloss                | 32.0               \n",
            " Service              | -                  \n",
            " Sload                | 75090.25           \n",
            " Dload                | 156111.73          \n",
            " Spkts                | 122.0              \n",
            " Dpkts                | 126.0              \n",
            " Swin                 | 255.0              \n",
            " Dwin                 | 255.0              \n",
            " Stcpb                | 2.751097753E9      \n",
            " Dtcpb                | 2.748686736E9      \n",
            " Smeansz              | 64.0               \n",
            " Dmeansz              | 129.0              \n",
            " Trans_depth          | 1.0309328107175242 \n",
            " Res_bdy_len          | 57697.795070467786 \n",
            " Sjit                 | 445.25928          \n",
            " Djit                 | 474.9451           \n",
            " Stime                | 1.421970774E9      \n",
            " Ltime                | 1.421970775E9      \n",
            " Sintpkt              | 6.8190908          \n",
            " Dintpkt              | 6.599896           \n",
            " Tcprtt               | 5.9700001E-4       \n",
            " Synack               | 4.6899999E-4       \n",
            " Ackdat               | 1.28E-4            \n",
            " Is_sm_ips_ports      | 1.0                \n",
            " Ct_state_ttl         | 1.8331426518543084 \n",
            " Ct_flw_http_mthd     | 1.363178961635407  \n",
            " Is_ftp_login         | 1.0114285714285713 \n",
            " Ct_ftp_cmd           | 1.1957407831463247 \n",
            " Ct_srv_src           | 2.0                \n",
            " Ct_srv_dst           | 7.0                \n",
            " Ct_dst_ltm           | 1.0                \n",
            " Ct_src_ltm           | 4.0                \n",
            " Ct_src_dport_ltm     | 1.0                \n",
            " Ct_dst_sport_ltm     | 1.0                \n",
            " Ct_dst_src_ltm       | 1.0                \n",
            " Attack_cat           | NoAttack           \n",
            " Label                | 0.0                \n",
            " Attack_cat_index     | 0.0                \n",
            " Attack_cat_OHEVector | (13,[0],[1.0])     \n",
            "only showing top 1 row\n",
            "\n"
          ]
        }
      ]
    },
    {
      "cell_type": "code",
      "source": [
        "#remove the string columns before combining the dataset into the feature vector\n",
        "cols=DF.columns\n",
        "cols.remove(\"Label\")\n",
        "cols.remove(\"Dstip\")\n",
        "cols.remove(\"Proto\")\n",
        "cols.remove(\"State\")\n",
        "cols.remove(\"Service\")\n",
        "cols.remove(\"Attack_cat\")\n",
        "cols.remove(\"Srcip\")\n",
        "\n",
        "#combine all the features in one single feature vector by using Vector Assembler\n",
        "assembler = VectorAssembler(inputCols=cols,outputCol=\"features\")\n",
        "DF=assembler.transform(DF)\n",
        "\n",
        "DF.select(\"features\").show(5,truncate=True)"
      ],
      "metadata": {
        "id": "2HdSem7P_5-b",
        "colab": {
          "base_uri": "https://localhost:8080/"
        },
        "outputId": "1e3ca5d2-5351-4716-f389-dd5d5eb832d6"
      },
      "execution_count": null,
      "outputs": [
        {
          "output_type": "stream",
          "name": "stdout",
          "text": [
            "+--------------------+\n",
            "|            features|\n",
            "+--------------------+\n",
            "|[56716.0,143.0,0....|\n",
            "|[43467.0,49729.0,...|\n",
            "|[41289.0,9574.0,0...|\n",
            "|[43785.0,6881.0,2...|\n",
            "|[40691.0,6881.0,2...|\n",
            "+--------------------+\n",
            "only showing top 5 rows\n",
            "\n"
          ]
        }
      ]
    },
    {
      "cell_type": "code",
      "source": [
        "#tranform the dataset to a common standad scale by using the Standard Scaler\n",
        "standardscaler=StandardScaler().setInputCol(\"features\").setOutputCol(\"Scaled_features\")\n",
        "DF=standardscaler.fit(DF).transform(DF)\n",
        "\n",
        "DF.select(\"features\",\"Scaled_features\").show(5,truncate=True)"
      ],
      "metadata": {
        "id": "gJUJ1oSb_566",
        "colab": {
          "base_uri": "https://localhost:8080/"
        },
        "outputId": "fe8aab50-ad58-4e4c-9664-704fb0e81c09"
      },
      "execution_count": null,
      "outputs": [
        {
          "output_type": "stream",
          "name": "stdout",
          "text": [
            "+--------------------+--------------------+\n",
            "|            features|     Scaled_features|\n",
            "+--------------------+--------------------+\n",
            "|[56716.0,143.0,0....|[2.84445602691735...|\n",
            "|[43467.0,49729.0,...|[2.17998395729629...|\n",
            "|[41289.0,9574.0,0...|[2.07075154974593...|\n",
            "|[43785.0,6881.0,2...|[2.19593249063009...|\n",
            "|[40691.0,6881.0,2...|[2.04076028265910...|\n",
            "+--------------------+--------------------+\n",
            "only showing top 5 rows\n",
            "\n"
          ]
        }
      ]
    },
    {
      "cell_type": "markdown",
      "metadata": {
        "id": "wHft1Jht1Qxl"
      },
      "source": [
        "\n",
        "# **Task 1 - Binary Classifier**\n",
        "\n",
        "---\n"
      ]
    },
    {
      "cell_type": "code",
      "execution_count": null,
      "metadata": {
        "id": "6nkxz8D03DpZ"
      },
      "outputs": [],
      "source": [
        "#For the binary classifier we use Logistic regression to predict the result of the dataset. "
      ]
    },
    {
      "cell_type": "code",
      "source": [
        "# Split the dataset into train data and test data using random split in the binary classification (trian: 80%, test: 20%)\n",
        "trainBC, testBC = DF.randomSplit([0.8, 0.2], seed=12345)§1"
      ],
      "metadata": {
        "id": "0-v0_aGeE53K"
      },
      "execution_count": null,
      "outputs": []
    },
    {
      "cell_type": "code",
      "execution_count": null,
      "metadata": {
        "colab": {
          "base_uri": "https://localhost:8080/"
        },
        "id": "M_XLphBrrLg_",
        "outputId": "91521c5b-29c0-4386-f8df-12cb45b5f071"
      },
      "outputs": [
        {
          "output_type": "stream",
          "name": "stdout",
          "text": [
            "The number of ones are 257283\n",
            "Percentage of ones are 12.659889020597175\n"
          ]
        }
      ],
      "source": [
        "#Observe the imbalance in the dataset using the Where function\n",
        "DF_size=float(trainBC.select(\"Label\").count())\n",
        "numPositives=trainBC.select(\"Label\").where('Label == 1').count()\n",
        "\n",
        "per_ones=(float(numPositives)/float(DF_size))*100\n",
        "numNegatives=float(DF_size-numPositives)\n",
        "\n",
        "print('The number of ones are {}'.format(numPositives))\n",
        "print('Percentage of ones are {}'.format(per_ones))"
      ]
    },
    {
      "cell_type": "code",
      "execution_count": null,
      "metadata": {
        "colab": {
          "base_uri": "https://localhost:8080/"
        },
        "id": "P6XDcW4HrLep",
        "outputId": "b8e3e036-8acd-4a5e-cb35-76194b9eb534"
      },
      "outputs": [
        {
          "output_type": "stream",
          "name": "stdout",
          "text": [
            "BalancingRatio = 0.8734011097940283\n",
            "+------------------+\n",
            "|classWeights      |\n",
            "+------------------+\n",
            "|0.1265988902059717|\n",
            "|0.1265988902059717|\n",
            "|0.1265988902059717|\n",
            "|0.1265988902059717|\n",
            "|0.1265988902059717|\n",
            "+------------------+\n",
            "only showing top 5 rows\n",
            "\n"
          ]
        }
      ],
      "source": [
        "#Find the balance ratio in the dataset and balance it by using the class Weights module\n",
        "BalancingRatio= numNegatives/DF_size\n",
        "print('BalancingRatio = {}'.format(BalancingRatio))\n",
        "\n",
        "trainBC=trainBC.withColumn(\"classWeights\", when(trainBC.Label == 1,BalancingRatio).otherwise(1-BalancingRatio))\n",
        "trainBC.select(\"classWeights\").show(5,truncate=False)"
      ]
    },
    {
      "cell_type": "code",
      "execution_count": null,
      "metadata": {
        "colab": {
          "base_uri": "https://localhost:8080/"
        },
        "id": "ThO_iVIXrLme",
        "outputId": "0d102a9f-c434-4247-8d76-5ce5d1c4080b"
      },
      "outputs": [
        {
          "output_type": "stream",
          "name": "stdout",
          "text": [
            "+--------------------+\n",
            "|    selectedFeatures|\n",
            "+--------------------+\n",
            "|[1.56480452752354...|\n",
            "|[1.56480452752354...|\n",
            "|[1.56480452752354...|\n",
            "|[1.56480452752354...|\n",
            "|[1.56480452752354...|\n",
            "+--------------------+\n",
            "only showing top 5 rows\n",
            "\n"
          ]
        }
      ],
      "source": [
        "#Use Univariate Feature Selector to reduce non-informative features to increase the perdiction result\n",
        "ufs = UnivariateFeatureSelector(featuresCol=\"Scaled_features\", outputCol=\"selectedFeatures\",labelCol=\"Label\", selectionMode=\"numTopFeatures\")\n",
        "ufs.setFeatureType(\"continuous\").setLabelType(\"categorical\")\n",
        "trainBC=ufs.fit(trainBC).transform(trainBC)\n",
        "testBC=ufs.fit(testBC).transform(testBC)\n",
        "\n",
        "testBC.select(\"selectedFeatures\").show(5,truncate=True)"
      ]
    },
    {
      "cell_type": "code",
      "execution_count": null,
      "metadata": {
        "colab": {
          "base_uri": "https://localhost:8080/"
        },
        "id": "TsJMTL1vrLZc",
        "outputId": "fd6cb437-a003-4875-91aa-883c5f66625a"
      },
      "outputs": [
        {
          "output_type": "stream",
          "name": "stdout",
          "text": [
            "+-----+----------+\n",
            "|Label|prediction|\n",
            "+-----+----------+\n",
            "|0.0  |0.0       |\n",
            "|0.0  |0.0       |\n",
            "|0.0  |0.0       |\n",
            "|0.0  |0.0       |\n",
            "|0.0  |0.0       |\n",
            "+-----+----------+\n",
            "only showing top 5 rows\n",
            "\n"
          ]
        }
      ],
      "source": [
        "#Use the LogisticRegression classification to predict the dependency of the data\n",
        "lr = LogisticRegression(labelCol=\"Label\", featuresCol=\"selectedFeatures\",weightCol=\"classWeights\",maxIter=10)\n",
        "model=lr.fit(trainBC)\n",
        "predict_train = model.transform(trainBC)\n",
        "predicted = model.transform(testBC)\n",
        "\n",
        "predicted.select(\"Label\", \"prediction\").show(5,truncate=False)"
      ]
    },
    {
      "cell_type": "code",
      "execution_count": null,
      "metadata": {
        "colab": {
          "base_uri": "https://localhost:8080/"
        },
        "id": "fuwcyH_RrLU6",
        "outputId": "9701fc70-cab0-4ec9-bef4-e51fbd2d6e93"
      },
      "outputs": [
        {
          "output_type": "stream",
          "name": "stdout",
          "text": [
            "+-----+----------+-----------+\n",
            "|Label|prediction|probability|\n",
            "+-----+----------+-----------+\n",
            "|0.0  |0.0       |[1.0,0.0]  |\n",
            "|0.0  |0.0       |[1.0,0.0]  |\n",
            "|0.0  |0.0       |[1.0,0.0]  |\n",
            "|0.0  |0.0       |[1.0,0.0]  |\n",
            "|0.0  |0.0       |[1.0,0.0]  |\n",
            "+-----+----------+-----------+\n",
            "only showing top 5 rows\n",
            "\n"
          ]
        }
      ],
      "source": [
        "#Use the Binary Classification Evaluator to evaluate the area under the ROC curve\n",
        "IRevaluator=BinaryClassificationEvaluator(rawPredictionCol='rawPrediction',labelCol=\"Label\")\n",
        "IRaccuracy = IRevaluator.evaluate(predicted, {IRevaluator.metricName: \"areaUnderROC\"})\n",
        "\n",
        "predicted.select(\"Label\",\"prediction\",\"probability\").show(5,truncate=False)"
      ]
    },
    {
      "cell_type": "markdown",
      "metadata": {
        "id": "IRGHM3rOsKvU"
      },
      "source": [
        "\n",
        "# **Task 2 - Multi Classifier**\n",
        "\n",
        "---\n"
      ]
    },
    {
      "cell_type": "code",
      "execution_count": null,
      "metadata": {
        "id": "hX2e73BN4D_X"
      },
      "outputs": [],
      "source": [
        "#For multi classifier we use two classifications, which are Random Forset and Naive Bayes Classifications to predict the result of the dataset"
      ]
    },
    {
      "cell_type": "code",
      "execution_count": null,
      "metadata": {
        "id": "hbfmcYGOtlxS"
      },
      "outputs": [],
      "source": [
        "#Split the dataset into train data and test data using random split  in the multi classification (trian: 80%, test: 20%)\n",
        "trainMC, testMC = DF.randomSplit([0.8, 0.2], seed=12345)"
      ]
    },
    {
      "cell_type": "code",
      "source": [
        "#Reduce non-informative features to increase the perdiction result\n",
        "ufs = UnivariateFeatureSelector(featuresCol=\"Scaled_features\", outputCol=\"selectedFeatures\",labelCol=\"Attack_cat_index\", selectionMode=\"numTopFeatures\")\n",
        "ufs.setFeatureType(\"continuous\").setLabelType(\"categorical\")\n",
        "trainMC=ufs.fit(trainMC).transform(trainMC)\n",
        "testMC=ufs.fit(testMC).transform(testMC)\n",
        "\n",
        "testMC.select(\"selectedFeatures\").show(5,truncate=True)"
      ],
      "metadata": {
        "colab": {
          "base_uri": "https://localhost:8080/"
        },
        "id": "wj6ofFCudLo3",
        "outputId": "ecf54ec5-6f91-4863-a09c-1024e361c89e"
      },
      "execution_count": null,
      "outputs": [
        {
          "output_type": "stream",
          "name": "stdout",
          "text": [
            "+--------------------+\n",
            "|    selectedFeatures|\n",
            "+--------------------+\n",
            "|[1.56480452752354...|\n",
            "|[1.56480452752354...|\n",
            "|[1.56480452752354...|\n",
            "|[1.56480452752354...|\n",
            "|[1.56480452752354...|\n",
            "+--------------------+\n",
            "only showing top 5 rows\n",
            "\n"
          ]
        }
      ]
    },
    {
      "cell_type": "code",
      "source": [
        "#Use the Random Forest Classification to predict the result of the data\n",
        "rf = RandomForestClassifier(labelCol=\"Attack_cat_index\", featuresCol=\"selectedFeatures\", numTrees=10)\n",
        "rfmodel=rf.fit(trainMC)\n",
        "predict_trainMC = rfmodel.transform(trainMC)\n",
        "rfpredicted = rfmodel.transform(testMC)\n",
        "\n",
        "rfpredicted.select(\"Attack_cat\", \"prediction\").show(5,truncate=False)"
      ],
      "metadata": {
        "colab": {
          "base_uri": "https://localhost:8080/"
        },
        "id": "5IOafgmyeRT-",
        "outputId": "86615498-137e-4f1b-8600-ed294c695046"
      },
      "execution_count": null,
      "outputs": [
        {
          "output_type": "stream",
          "name": "stdout",
          "text": [
            "+----------+----------+\n",
            "|Attack_cat|prediction|\n",
            "+----------+----------+\n",
            "|NoAttack  |0.0       |\n",
            "|NoAttack  |0.0       |\n",
            "|NoAttack  |0.0       |\n",
            "|NoAttack  |0.0       |\n",
            "|NoAttack  |0.0       |\n",
            "+----------+----------+\n",
            "only showing top 5 rows\n",
            "\n"
          ]
        }
      ]
    },
    {
      "cell_type": "code",
      "source": [
        "#Use the Naive Bayes classification to predict the result of the data \n",
        "nb = NaiveBayes(featuresCol='selectedFeatures', labelCol=\"Attack_cat_index\")\n",
        "nbmodel=nb.fit(trainMC)\n",
        "predict_trainnb = nbmodel.transform(trainMC)\n",
        "nbpredicted = nbmodel.transform(testMC)\n",
        "\n",
        "nbpredicted.select(\"Attack_cat\", \"prediction\").show(5,truncate=False)"
      ],
      "metadata": {
        "colab": {
          "base_uri": "https://localhost:8080/"
        },
        "id": "5bhzcMa8eVJC",
        "outputId": "5fd56353-0d24-432f-8f5f-5ba2cca7b8b1"
      },
      "execution_count": null,
      "outputs": [
        {
          "output_type": "stream",
          "name": "stdout",
          "text": [
            "+----------+----------+\n",
            "|Attack_cat|prediction|\n",
            "+----------+----------+\n",
            "|NoAttack  |0.0       |\n",
            "|NoAttack  |0.0       |\n",
            "|NoAttack  |0.0       |\n",
            "|NoAttack  |0.0       |\n",
            "|NoAttack  |0.0       |\n",
            "+----------+----------+\n",
            "only showing top 5 rows\n",
            "\n"
          ]
        }
      ]
    },
    {
      "cell_type": "code",
      "source": [
        "#Convert indexed labels back to original labels.\n",
        "labelConverter = IndexToString(inputCol=\"Attack_cat_index\", outputCol=\"predictedLabel\")\n",
        "lbpredicted = labelConverter.transform(testMC)\n",
        "\n",
        "lbpredicted.select(\"Attack_cat\", \"predictedLabel\").show(5,truncate=False)"
      ],
      "metadata": {
        "colab": {
          "base_uri": "https://localhost:8080/"
        },
        "id": "sOJlmsMXgyC_",
        "outputId": "dfec8523-3d7e-4e59-d02c-35d644f68b32"
      },
      "execution_count": null,
      "outputs": [
        {
          "output_type": "stream",
          "name": "stdout",
          "text": [
            "+----------+--------------+\n",
            "|Attack_cat|predictedLabel|\n",
            "+----------+--------------+\n",
            "|NoAttack  |NoAttack      |\n",
            "|NoAttack  |NoAttack      |\n",
            "|NoAttack  |NoAttack      |\n",
            "|NoAttack  |NoAttack      |\n",
            "|NoAttack  |NoAttack      |\n",
            "+----------+--------------+\n",
            "only showing top 5 rows\n",
            "\n"
          ]
        }
      ]
    },
    {
      "cell_type": "code",
      "source": [
        "#Use the Multiclass classification Evaluator to evaluate the prediction accuracy \n",
        "evaluator = MulticlassClassificationEvaluator(labelCol=\"Attack_cat_index\", predictionCol=\"prediction\", metricName=\"accuracy\")\n",
        "rfAccuracy = evaluator.evaluate(rfpredicted)\n",
        "nbAccuracy = evaluator.evaluate(nbpredicted)\n",
        "\n",
        "rfpredicted.select(\"Attack_cat\",\"prediction\",\"probability\").show(5,truncate=True)\n",
        "nbpredicted.select(\"Attack_cat\",\"prediction\",\"probability\").show(5,truncate=True)"
      ],
      "metadata": {
        "colab": {
          "base_uri": "https://localhost:8080/"
        },
        "id": "rR6zkEc2hqwJ",
        "outputId": "51ef395f-c1b3-48f7-c8f2-3f008e3885c2"
      },
      "execution_count": null,
      "outputs": [
        {
          "output_type": "stream",
          "name": "stdout",
          "text": [
            "+----------+----------+--------------------+\n",
            "|Attack_cat|prediction|         probability|\n",
            "+----------+----------+--------------------+\n",
            "|  NoAttack|       0.0|[0.96236782404737...|\n",
            "|  NoAttack|       0.0|[0.96236782404737...|\n",
            "|  NoAttack|       0.0|[0.96236782404737...|\n",
            "|  NoAttack|       0.0|[0.96236782404737...|\n",
            "|  NoAttack|       0.0|[0.96236782404737...|\n",
            "+----------+----------+--------------------+\n",
            "only showing top 5 rows\n",
            "\n",
            "+----------+----------+--------------------+\n",
            "|Attack_cat|prediction|         probability|\n",
            "+----------+----------+--------------------+\n",
            "|  NoAttack|       0.0|[0.99999999999999...|\n",
            "|  NoAttack|       0.0|[0.99999999999999...|\n",
            "|  NoAttack|       0.0|[0.99999999999999...|\n",
            "|  NoAttack|       0.0|[0.99999999999999...|\n",
            "|  NoAttack|       0.0|[0.99999999999999...|\n",
            "+----------+----------+--------------------+\n",
            "only showing top 5 rows\n",
            "\n"
          ]
        }
      ]
    },
    {
      "cell_type": "markdown",
      "metadata": {
        "id": "QdUw_YneYWvZ"
      },
      "source": [
        "# **Task 3 - Performance Measurements**"
      ]
    },
    {
      "cell_type": "markdown",
      "metadata": {
        "id": "lamYjxnk_d8_"
      },
      "source": [
        "## **Measurements for Binary Classifer** ##"
      ]
    },
    {
      "cell_type": "code",
      "execution_count": null,
      "metadata": {
        "colab": {
          "base_uri": "https://localhost:8080/",
          "height": 351
        },
        "id": "PUg6TwGzGo54",
        "outputId": "ea3a1c5a-2c31-40a2-b08c-4b04f188b6ff"
      },
      "outputs": [
        {
          "output_type": "stream",
          "name": "stdout",
          "text": [
            "Area under ROC Curve: 0.8248\n",
            "<pyspark.ml.classification.BinaryLogisticRegressionTrainingSummary object at 0x7f117f992d90>\n"
          ]
        },
        {
          "output_type": "stream",
          "name": "stderr",
          "text": [
            "/usr/local/lib/python3.7/dist-packages/pyspark/sql/context.py:127: FutureWarning: Deprecated in 3.0.0. Use SparkSession.builder.getOrCreate() instead.\n",
            "  FutureWarning\n"
          ]
        },
        {
          "output_type": "display_data",
          "data": {
            "text/plain": [
              "<Figure size 432x288 with 1 Axes>"
            ],
            "image/png": "[encoded data removed]"
          },
          "metadata": {
            "needs_background": "light"
          }
        }
      ],
      "source": [
        "#check the percentage of the area under the ROC curve\n",
        "print(\"Area under ROC Curve: {:.4f}\".format(IRaccuracy))\n",
        "print(model.summary)\n",
        "\n",
        "#visualise the accuracy of the prediction\n",
        "pr = model.summary.pr.toPandas()\n",
        "plt.plot(pr['recall'],pr['precision'])\n",
        "plt.ylabel('Precision')\n",
        "plt.xlabel('Recall')\n",
        "\n",
        "plt.show()"
      ]
    },
    {
      "cell_type": "code",
      "execution_count": null,
      "metadata": {
        "id": "dUH7oMLHoMc-",
        "colab": {
          "base_uri": "https://localhost:8080/"
        },
        "outputId": "611441e3-ecb3-4699-9cda-4527d40fd777"
      },
      "outputs": [
        {
          "output_type": "stream",
          "name": "stdout",
          "text": [
            "Model Accuracy 0.9999994366152747\n",
            "FP rate [0.0, 1.1267694505703622e-06]\n",
            "TR rate [0.9999988732305495, 1.0]\n",
            "Total Actual Positive i.e. Attack Record 64000\n",
            "Total Actual Negative,i.e. Normal 443470\n"
          ]
        }
      ],
      "source": [
        "#show the percentage of acurracy of the perdiction  \n",
        "print(\"Model Accuracy\",model.summary.accuracy)\n",
        "#show the false positive rate\n",
        "print(\"FP rate\",model.summary.falsePositiveRateByLabel)\n",
        "#show the true positive rate\n",
        "print(\"TR rate\",model.summary.truePositiveRateByLabel)\n",
        "#show the total count of actual positive and actual negative\n",
        "print(\"Total Actual Positive i.e. Attack Record\",predicted.select(\"Label\").where('Label == 1.0').count())\n",
        "print(\"Total Actual Negative,i.e. Normal\",predicted.select(\"Label\").where('Label == 0.0').count())"
      ]
    },
    {
      "cell_type": "code",
      "execution_count": null,
      "metadata": {
        "id": "vdF_c23fu2LX",
        "colab": {
          "base_uri": "https://localhost:8080/",
          "height": 387
        },
        "outputId": "6418b34e-5308-4839-f059-be12a943d418"
      },
      "outputs": [
        {
          "output_type": "stream",
          "name": "stdout",
          "text": [
            "Confusion matrix, without normalization\n",
            "[[443470      0]\n",
            " [ 64000      0]]\n"
          ]
        },
        {
          "output_type": "display_data",
          "data": {
            "text/plain": [
              "<Figure size 432x288 with 2 Axes>"
            ],
            "image/png": "[encoded data removed]"
          },
          "metadata": {
            "needs_background": "light"
          }
        },
        {
          "output_type": "stream",
          "name": "stdout",
          "text": [
            "Normalized confusion matrix\n"
          ]
        },
        {
          "output_type": "display_data",
          "data": {
            "text/plain": [
              "<Figure size 432x288 with 0 Axes>"
            ]
          },
          "metadata": {}
        }
      ],
      "source": [
        "#defining the fucntion to plt a confrusion matrix\n",
        "#visualise the total count of the positive and negative results by using the confusion matrix method\n",
        "def plot_cnf_matrix(cm, classes,normalize=False,title='Confusion matrix',cmap=plt.cm.Blues):\n",
        "  if normalize:\n",
        "    cm = cm.astype('float') / cm.sum(axis=1)[:, np.newaxis]\n",
        "    print(\"Normalized confusion matrix\")\n",
        "  else:\n",
        "    print('Confusion matrix, without normalization') \n",
        "    \n",
        "    print(cm) \n",
        "    plt.imshow(cm, interpolation='nearest', cmap=cmap)\n",
        "    plt.title(title)\n",
        "    plt.colorbar()\n",
        "    tick_marks = np.arange(len(classes))\n",
        "    plt.xticks(tick_marks, classes, rotation=45)\n",
        "    plt.yticks(tick_marks, classes) \n",
        "    \n",
        "    fmt = '.2f' if normalize else 'd' \n",
        "    thresh = cm.max() / 2.\n",
        "    for i, j in itertools.product(range(cm.shape[0]), range(cm.shape[1])): \n",
        "      plt.text(j, i, format(cm[i, j], fmt),\n",
        "               horizontalalignment=\"center\",\n",
        "               color=\"white\" if cm[i, j] > thresh else \"black\") \n",
        "      plt.tight_layout()\n",
        "      plt.ylabel('True label')\n",
        "      plt.xlabel('Predicted label')\n",
        "\n",
        "\n",
        "y_true = testBC.select(\"Label\")\n",
        "y_true = y_true.toPandas()\n",
        "y_pred = predicted.select(\"prediction\")\n",
        "y_pred = y_pred.toPandas()\n",
        "\n",
        "cnf_matrix = confusion_matrix(y_true, y_pred)\n",
        "cnf_matrix\n",
        "\n",
        "plt.figure()\n",
        "plot_cnf_matrix(cnf_matrix, classes=[1,0],\n",
        "title='Attack Record, Normal')\n",
        "plt.show()\n",
        "\n",
        "plt.figure()\n",
        "plot_cnf_matrix(cnf_matrix, classes=[0,1], normalize=True,\n",
        "title='Normalized confusion matrix')\n",
        "\n",
        "plt.show()"
      ]
    },
    {
      "cell_type": "code",
      "execution_count": null,
      "metadata": {
        "id": "fKojGZazu2Ig",
        "colab": {
          "base_uri": "https://localhost:8080/"
        },
        "outputId": "176374fe-93e0-4812-cee3-21ee75a9f16e"
      },
      "outputs": [
        {
          "output_type": "stream",
          "name": "stdout",
          "text": [
            "[1. 0.]\n",
            "[0. 1.]\n",
            "[0.87388417        nan]\n",
            "[       nan 0.87388417]\n",
            "[1. 0.]\n",
            "[0. 1.]\n",
            "[0.12611583        nan]\n",
            "[0.87388417 0.87388417]\n"
          ]
        },
        {
          "output_type": "stream",
          "name": "stderr",
          "text": [
            "/usr/local/lib/python3.7/dist-packages/ipykernel_launcher.py:15: RuntimeWarning: invalid value encountered in true_divide\n",
            "  from ipykernel import kernelapp as app\n",
            "/usr/local/lib/python3.7/dist-packages/ipykernel_launcher.py:19: RuntimeWarning: invalid value encountered in true_divide\n",
            "/usr/local/lib/python3.7/dist-packages/ipykernel_launcher.py:31: RuntimeWarning: invalid value encountered in true_divide\n"
          ]
        }
      ],
      "source": [
        "FP = cnf_matrix.sum(axis=0) - np.diag(cnf_matrix)  \n",
        "FN = cnf_matrix.sum(axis=1) - np.diag(cnf_matrix)\n",
        "TP = np.diag(cnf_matrix)\n",
        "TN = cnf_matrix.sum() - (FP + FN + TP)\n",
        "\n",
        "# Sensitivity, hit rate, recall, or true positive rate\n",
        "TPR = TP/(TP+FN)\n",
        "print(TPR)\n",
        "\n",
        "# Specificity or true negative rate\n",
        "TNR = TN/(TN+FP) \n",
        "print(TNR)\n",
        "\n",
        "# Precision or positive predictive value\n",
        "PPV = TP/(TP+FP)\n",
        "print(PPV)\n",
        "\n",
        "# Negative predictive value\n",
        "NPV = TN/(TN+FN)\n",
        "print(NPV)\n",
        "\n",
        "# Fall out or false positive rate\n",
        "FPR = FP/(FP+TN)\n",
        "print(FPR)\n",
        "\n",
        "# False negative rate\n",
        "FNR = FN/(TP+FN)\n",
        "print(FNR)\n",
        "\n",
        "# False discovery rate\n",
        "FDR = FP/(TP+FP)\n",
        "print(FDR)\n",
        "\n",
        "# Overall accuracy\n",
        "ACC = (TP+TN)/(TP+FP+FN+TN)\n",
        "print(ACC)"
      ]
    },
    {
      "cell_type": "markdown",
      "metadata": {
        "id": "IL8dAYmf_q1Q"
      },
      "source": [
        "## **Measurements for Multi Classfier** ##"
      ]
    },
    {
      "cell_type": "code",
      "execution_count": null,
      "metadata": {
        "id": "sY4w1bSTylMI",
        "colab": {
          "base_uri": "https://localhost:8080/"
        },
        "outputId": "3e3942a2-746b-4c13-dc0f-8ad5df150716"
      },
      "outputs": [
        {
          "output_type": "stream",
          "name": "stdout",
          "text": [
            "Random Forest:\n",
            "Test Error = 0.0153172\n",
            "Test accuracy =  0.9846828383943879\n",
            "Naive Bayes:\n",
            "Test Error = 0.0296904\n",
            "Test accuracy =  0.9703095749502434\n"
          ]
        }
      ],
      "source": [
        "#Show the accuracy results\n",
        "print(\"Random Forest:\")\n",
        "print(\"Test Error = %g\" % (1 - rfAccuracy))\n",
        "print(\"Test accuracy = \", rfAccuracy)\n",
        "\n",
        "#Show the accuracy results\n",
        "print(\"Naive Bayes:\")\n",
        "print(\"Test Error = %g\" % (1 - nbAccuracy))\n",
        "print(\"Test accuracy = \", nbAccuracy)"
      ]
    },
    {
      "cell_type": "code",
      "execution_count": null,
      "metadata": {
        "id": "kBLJd5qD3xC9",
        "colab": {
          "base_uri": "https://localhost:8080/",
          "height": 467
        },
        "outputId": "c7f161cc-2322-4e21-a457-3190ec7982bc"
      },
      "outputs": [
        {
          "output_type": "display_data",
          "data": {
            "text/html": [
              "<html>\n",
              "<head><meta charset=\"utf-8\" /></head>\n",
              "<body>\n",
              "    <div>            <script src=\"https://cdnjs.cloudflare.com/ajax/libs/mathjax/2.7.5/MathJax.js?config=TeX-AMS-MML_SVG\"></script><script type=\"text/javascript\">if (window.MathJax) {MathJax.Hub.Config({SVG: {font: \"STIX-Web\"}});}</script>                <script type=\"text/javascript\">window.PlotlyConfig = {MathJaxConfig: 'local'};</script>\n",
              "        <script src=\"https://cdn.plot.ly/plotly-2.8.3.min.js\"></script>                <div id=\"a23fa703-28bb-4abf-a6d8-856c34dc0c8a\" class=\"plotly-graph-div\" style=\"height:450px; width:600px;\"></div>            <script type=\"text/javascript\">                                    window.PLOTLYENV=window.PLOTLYENV || {};                                    if (document.getElementById(\"a23fa703-28bb-4abf-a6d8-856c34dc0c8a\")) {                    Plotly.newPlot(                        \"a23fa703-28bb-4abf-a6d8-856c34dc0c8a\",                        [{\"x\":[\"Random Forest\",\"Naive Bayes\"],\"y\":[0.9846828383943879,0.9703095749502434],\"type\":\"bar\"}],                        {\"template\":{\"data\":{\"bar\":[{\"error_x\":{\"color\":\"#2a3f5f\"},\"error_y\":{\"color\":\"#2a3f5f\"},\"marker\":{\"line\":{\"color\":\"#E5ECF6\",\"width\":0.5},\"pattern\":{\"fillmode\":\"overlay\",\"size\":10,\"solidity\":0.2}},\"type\":\"bar\"}],\"barpolar\":[{\"marker\":{\"line\":{\"color\":\"#E5ECF6\",\"width\":0.5},\"pattern\":{\"fillmode\":\"overlay\",\"size\":10,\"solidity\":0.2}},\"type\":\"barpolar\"}],\"carpet\":[{\"aaxis\":{\"endlinecolor\":\"#2a3f5f\",\"gridcolor\":\"white\",\"linecolor\":\"white\",\"minorgridcolor\":\"white\",\"startlinecolor\":\"#2a3f5f\"},\"baxis\":{\"endlinecolor\":\"#2a3f5f\",\"gridcolor\":\"white\",\"linecolor\":\"white\",\"minorgridcolor\":\"white\",\"startlinecolor\":\"#2a3f5f\"},\"type\":\"carpet\"}],\"choropleth\":[{\"colorbar\":{\"outlinewidth\":0,\"ticks\":\"\"},\"type\":\"choropleth\"}],\"contour\":[{\"colorbar\":{\"outlinewidth\":0,\"ticks\":\"\"},\"colorscale\":[[0.0,\"#0d0887\"],[0.1111111111111111,\"#46039f\"],[0.2222222222222222,\"#7201a8\"],[0.3333333333333333,\"#9c179e\"],[0.4444444444444444,\"#bd3786\"],[0.5555555555555556,\"#d8576b\"],[0.6666666666666666,\"#ed7953\"],[0.7777777777777778,\"#fb9f3a\"],[0.8888888888888888,\"#fdca26\"],[1.0,\"#f0f921\"]],\"type\":\"contour\"}],\"contourcarpet\":[{\"colorbar\":{\"outlinewidth\":0,\"ticks\":\"\"},\"type\":\"contourcarpet\"}],\"heatmap\":[{\"colorbar\":{\"outlinewidth\":0,\"ticks\":\"\"},\"colorscale\":[[0.0,\"#0d0887\"],[0.1111111111111111,\"#46039f\"],[0.2222222222222222,\"#7201a8\"],[0.3333333333333333,\"#9c179e\"],[0.4444444444444444,\"#bd3786\"],[0.5555555555555556,\"#d8576b\"],[0.6666666666666666,\"#ed7953\"],[0.7777777777777778,\"#fb9f3a\"],[0.8888888888888888,\"#fdca26\"],[1.0,\"#f0f921\"]],\"type\":\"heatmap\"}],\"heatmapgl\":[{\"colorbar\":{\"outlinewidth\":0,\"ticks\":\"\"},\"colorscale\":[[0.0,\"#0d0887\"],[0.1111111111111111,\"#46039f\"],[0.2222222222222222,\"#7201a8\"],[0.3333333333333333,\"#9c179e\"],[0.4444444444444444,\"#bd3786\"],[0.5555555555555556,\"#d8576b\"],[0.6666666666666666,\"#ed7953\"],[0.7777777777777778,\"#fb9f3a\"],[0.8888888888888888,\"#fdca26\"],[1.0,\"#f0f921\"]],\"type\":\"heatmapgl\"}],\"histogram\":[{\"marker\":{\"pattern\":{\"fillmode\":\"overlay\",\"size\":10,\"solidity\":0.2}},\"type\":\"histogram\"}],\"histogram2d\":[{\"colorbar\":{\"outlinewidth\":0,\"ticks\":\"\"},\"colorscale\":[[0.0,\"#0d0887\"],[0.1111111111111111,\"#46039f\"],[0.2222222222222222,\"#7201a8\"],[0.3333333333333333,\"#9c179e\"],[0.4444444444444444,\"#bd3786\"],[0.5555555555555556,\"#d8576b\"],[0.6666666666666666,\"#ed7953\"],[0.7777777777777778,\"#fb9f3a\"],[0.8888888888888888,\"#fdca26\"],[1.0,\"#f0f921\"]],\"type\":\"histogram2d\"}],\"histogram2dcontour\":[{\"colorbar\":{\"outlinewidth\":0,\"ticks\":\"\"},\"colorscale\":[[0.0,\"#0d0887\"],[0.1111111111111111,\"#46039f\"],[0.2222222222222222,\"#7201a8\"],[0.3333333333333333,\"#9c179e\"],[0.4444444444444444,\"#bd3786\"],[0.5555555555555556,\"#d8576b\"],[0.6666666666666666,\"#ed7953\"],[0.7777777777777778,\"#fb9f3a\"],[0.8888888888888888,\"#fdca26\"],[1.0,\"#f0f921\"]],\"type\":\"histogram2dcontour\"}],\"mesh3d\":[{\"colorbar\":{\"outlinewidth\":0,\"ticks\":\"\"},\"type\":\"mesh3d\"}],\"parcoords\":[{\"line\":{\"colorbar\":{\"outlinewidth\":0,\"ticks\":\"\"}},\"type\":\"parcoords\"}],\"pie\":[{\"automargin\":true,\"type\":\"pie\"}],\"scatter\":[{\"marker\":{\"colorbar\":{\"outlinewidth\":0,\"ticks\":\"\"}},\"type\":\"scatter\"}],\"scatter3d\":[{\"line\":{\"colorbar\":{\"outlinewidth\":0,\"ticks\":\"\"}},\"marker\":{\"colorbar\":{\"outlinewidth\":0,\"ticks\":\"\"}},\"type\":\"scatter3d\"}],\"scattercarpet\":[{\"marker\":{\"colorbar\":{\"outlinewidth\":0,\"ticks\":\"\"}},\"type\":\"scattercarpet\"}],\"scattergeo\":[{\"marker\":{\"colorbar\":{\"outlinewidth\":0,\"ticks\":\"\"}},\"type\":\"scattergeo\"}],\"scattergl\":[{\"marker\":{\"colorbar\":{\"outlinewidth\":0,\"ticks\":\"\"}},\"type\":\"scattergl\"}],\"scattermapbox\":[{\"marker\":{\"colorbar\":{\"outlinewidth\":0,\"ticks\":\"\"}},\"type\":\"scattermapbox\"}],\"scatterpolar\":[{\"marker\":{\"colorbar\":{\"outlinewidth\":0,\"ticks\":\"\"}},\"type\":\"scatterpolar\"}],\"scatterpolargl\":[{\"marker\":{\"colorbar\":{\"outlinewidth\":0,\"ticks\":\"\"}},\"type\":\"scatterpolargl\"}],\"scatterternary\":[{\"marker\":{\"colorbar\":{\"outlinewidth\":0,\"ticks\":\"\"}},\"type\":\"scatterternary\"}],\"surface\":[{\"colorbar\":{\"outlinewidth\":0,\"ticks\":\"\"},\"colorscale\":[[0.0,\"#0d0887\"],[0.1111111111111111,\"#46039f\"],[0.2222222222222222,\"#7201a8\"],[0.3333333333333333,\"#9c179e\"],[0.4444444444444444,\"#bd3786\"],[0.5555555555555556,\"#d8576b\"],[0.6666666666666666,\"#ed7953\"],[0.7777777777777778,\"#fb9f3a\"],[0.8888888888888888,\"#fdca26\"],[1.0,\"#f0f921\"]],\"type\":\"surface\"}],\"table\":[{\"cells\":{\"fill\":{\"color\":\"#EBF0F8\"},\"line\":{\"color\":\"white\"}},\"header\":{\"fill\":{\"color\":\"#C8D4E3\"},\"line\":{\"color\":\"white\"}},\"type\":\"table\"}]},\"layout\":{\"annotationdefaults\":{\"arrowcolor\":\"#2a3f5f\",\"arrowhead\":0,\"arrowwidth\":1},\"autotypenumbers\":\"strict\",\"coloraxis\":{\"colorbar\":{\"outlinewidth\":0,\"ticks\":\"\"}},\"colorscale\":{\"diverging\":[[0,\"#8e0152\"],[0.1,\"#c51b7d\"],[0.2,\"#de77ae\"],[0.3,\"#f1b6da\"],[0.4,\"#fde0ef\"],[0.5,\"#f7f7f7\"],[0.6,\"#e6f5d0\"],[0.7,\"#b8e186\"],[0.8,\"#7fbc41\"],[0.9,\"#4d9221\"],[1,\"#276419\"]],\"sequential\":[[0.0,\"#0d0887\"],[0.1111111111111111,\"#46039f\"],[0.2222222222222222,\"#7201a8\"],[0.3333333333333333,\"#9c179e\"],[0.4444444444444444,\"#bd3786\"],[0.5555555555555556,\"#d8576b\"],[0.6666666666666666,\"#ed7953\"],[0.7777777777777778,\"#fb9f3a\"],[0.8888888888888888,\"#fdca26\"],[1.0,\"#f0f921\"]],\"sequentialminus\":[[0.0,\"#0d0887\"],[0.1111111111111111,\"#46039f\"],[0.2222222222222222,\"#7201a8\"],[0.3333333333333333,\"#9c179e\"],[0.4444444444444444,\"#bd3786\"],[0.5555555555555556,\"#d8576b\"],[0.6666666666666666,\"#ed7953\"],[0.7777777777777778,\"#fb9f3a\"],[0.8888888888888888,\"#fdca26\"],[1.0,\"#f0f921\"]]},\"colorway\":[\"#636efa\",\"#EF553B\",\"#00cc96\",\"#ab63fa\",\"#FFA15A\",\"#19d3f3\",\"#FF6692\",\"#B6E880\",\"#FF97FF\",\"#FECB52\"],\"font\":{\"color\":\"#2a3f5f\"},\"geo\":{\"bgcolor\":\"white\",\"lakecolor\":\"white\",\"landcolor\":\"#E5ECF6\",\"showlakes\":true,\"showland\":true,\"subunitcolor\":\"white\"},\"hoverlabel\":{\"align\":\"left\"},\"hovermode\":\"closest\",\"mapbox\":{\"style\":\"light\"},\"paper_bgcolor\":\"white\",\"plot_bgcolor\":\"#E5ECF6\",\"polar\":{\"angularaxis\":{\"gridcolor\":\"white\",\"linecolor\":\"white\",\"ticks\":\"\"},\"bgcolor\":\"#E5ECF6\",\"radialaxis\":{\"gridcolor\":\"white\",\"linecolor\":\"white\",\"ticks\":\"\"}},\"scene\":{\"xaxis\":{\"backgroundcolor\":\"#E5ECF6\",\"gridcolor\":\"white\",\"gridwidth\":2,\"linecolor\":\"white\",\"showbackground\":true,\"ticks\":\"\",\"zerolinecolor\":\"white\"},\"yaxis\":{\"backgroundcolor\":\"#E5ECF6\",\"gridcolor\":\"white\",\"gridwidth\":2,\"linecolor\":\"white\",\"showbackground\":true,\"ticks\":\"\",\"zerolinecolor\":\"white\"},\"zaxis\":{\"backgroundcolor\":\"#E5ECF6\",\"gridcolor\":\"white\",\"gridwidth\":2,\"linecolor\":\"white\",\"showbackground\":true,\"ticks\":\"\",\"zerolinecolor\":\"white\"}},\"shapedefaults\":{\"line\":{\"color\":\"#2a3f5f\"}},\"ternary\":{\"aaxis\":{\"gridcolor\":\"white\",\"linecolor\":\"white\",\"ticks\":\"\"},\"baxis\":{\"gridcolor\":\"white\",\"linecolor\":\"white\",\"ticks\":\"\"},\"bgcolor\":\"#E5ECF6\",\"caxis\":{\"gridcolor\":\"white\",\"linecolor\":\"white\",\"ticks\":\"\"}},\"title\":{\"x\":0.05},\"xaxis\":{\"automargin\":true,\"gridcolor\":\"white\",\"linecolor\":\"white\",\"ticks\":\"\",\"title\":{\"standoff\":15},\"zerolinecolor\":\"white\",\"zerolinewidth\":2},\"yaxis\":{\"automargin\":true,\"gridcolor\":\"white\",\"linecolor\":\"white\",\"ticks\":\"\",\"title\":{\"standoff\":15},\"zerolinecolor\":\"white\",\"zerolinewidth\":2}}},\"title\":{\"text\":\"Comparing the Random Forest and Naive Bayes model accuracies\"},\"autosize\":false,\"width\":600,\"height\":450},                        {\"responsive\": true}                    ).then(function(){\n",
              "                            \n",
              "var gd = document.getElementById('a23fa703-28bb-4abf-a6d8-856c34dc0c8a');\n",
              "var x = new MutationObserver(function (mutations, observer) {{\n",
              "        var display = window.getComputedStyle(gd).display;\n",
              "        if (!display || display === 'none') {{\n",
              "            console.log([gd, 'removed!']);\n",
              "            Plotly.purge(gd);\n",
              "            observer.disconnect();\n",
              "        }}\n",
              "}});\n",
              "\n",
              "// Listen for the removal of the full notebook cells\n",
              "var notebookContainer = gd.closest('#notebook-container');\n",
              "if (notebookContainer) {{\n",
              "    x.observe(notebookContainer, {childList: true});\n",
              "}}\n",
              "\n",
              "// Listen for the clearing of the current output cell\n",
              "var outputEl = gd.closest('.output');\n",
              "if (outputEl) {{\n",
              "    x.observe(outputEl, {childList: true});\n",
              "}}\n",
              "\n",
              "                        })                };                            </script>        </div>\n",
              "</body>\n",
              "</html>"
            ]
          },
          "metadata": {}
        }
      ],
      "source": [
        "#Visualise the comparision of the Random Forest and Naive Bayes model\n",
        "cmpAcc=[rfAccuracy, nbAccuracy]\n",
        "fig = go.Figure([go.Bar(x=[\"Random Forest\",\"Naive Bayes\"], y=cmpAcc)])\n",
        "fig.update_layout(\n",
        "    title=\"Comparing the Random Forest and Naive Bayes model accuracies\",\n",
        "    autosize=False,\n",
        "    width=600,\n",
        "    height=450,\n",
        "    )\n",
        "fig.show()"
      ]
    },
    {
      "cell_type": "code",
      "execution_count": null,
      "metadata": {
        "id": "qk3JT4BbvfdD"
      },
      "outputs": [],
      "source": [
        "#defining the fucntion to plt a confrusion matrix (use Random Forest Classification as the main result)\n",
        "def plot_confusion_matrix(cm, classes,\n",
        "                          normalize=False,\n",
        "                          title='Confusion matrix',\n",
        "                          cmap=plt.cm.Reds):\n",
        "\n",
        "    if normalize:\n",
        "        cm = cm.astype('float') / cm.sum(axis=1)[:, np.newaxis]\n",
        "        print(\"Normalized confusion matrix\")\n",
        "    else:\n",
        "        print('Confusion matrix, without normalization')\n",
        "\n",
        "    print(cm)\n",
        "\n",
        "    plt.imshow(cm, interpolation='nearest', cmap=cmap)\n",
        "    plt.title(title)\n",
        "    plt.colorbar()\n",
        "    tick_marks = np.arange(len(classes))\n",
        "    plt.xticks(tick_marks, classes, rotation=45)\n",
        "    plt.yticks(tick_marks, classes)\n",
        "\n",
        "    fmt = '.2f' if normalize else 'd'\n",
        "    thresh = cm.max() / 2.\n",
        "    for i, j in itertools.product(range(cm.shape[0]), range(cm.shape[1])):\n",
        "        plt.text(j, i, format(cm[i, j], fmt),\n",
        "                 horizontalalignment=\"center\",\n",
        "                 color=\"white\" if cm[i, j] > thresh else \"black\")\n",
        "\n",
        "    plt.tight_layout()\n",
        "    plt.ylabel('True label')\n",
        "    plt.xlabel('Predicted label')"
      ]
    },
    {
      "cell_type": "code",
      "execution_count": null,
      "metadata": {
        "id": "uhRrEqOTVM9s",
        "colab": {
          "base_uri": "https://localhost:8080/"
        },
        "outputId": "462bf9d6-1a49-4c95-a9df-73a7094217e9"
      },
      "outputs": [
        {
          "output_type": "execute_result",
          "data": {
            "text/plain": [
              "<map at 0x7f1177e74f90>"
            ]
          },
          "metadata": {},
          "execution_count": 41
        }
      ],
      "source": [
        "#processing the classes for the confusion matrix \n",
        "class_temp = rfpredicted.select(\"Attack_cat\").groupBy(\"Attack_cat\").count().sort('count', ascending=False).toPandas()\n",
        "class_temp = class_temp[\"Attack_cat\"].values.tolist()\n",
        "class_names = map(str, class_temp)\n",
        "\n",
        "class_names"
      ]
    },
    {
      "cell_type": "code",
      "execution_count": null,
      "metadata": {
        "id": "CnmhSp0_vl89",
        "colab": {
          "base_uri": "https://localhost:8080/",
          "height": 1000
        },
        "outputId": "d72381ed-b70d-4395-a821-8b8f3984ff54"
      },
      "outputs": [
        {
          "output_type": "stream",
          "name": "stdout",
          "text": [
            "Confusion matrix, without normalization\n",
            "[[443470      0      0      0      0      0      0      0      0      0\n",
            "       0      0      0      0]\n",
            " [     0  43073      0      0      0      0      0      0      0      0\n",
            "       0      0      0      0]\n",
            " [     0      0   8817      0      0      0      0      0      0      0\n",
            "       0      0      0      0]\n",
            " [     0      0      0   3832      0      0      0      0      0      0\n",
            "       0      0      0      0]\n",
            " [     0      0      0      0   3217      0      0      0      0      0\n",
            "       0      0      0      0]\n",
            " [     0      0      0      0      0   2467      0      0      0      0\n",
            "       0      0      0      0]\n",
            " [     0      0      0      0      0      0    937      0      0      0\n",
            "       0      0      0      0]\n",
            " [     0      0      0      0      0      0      0    540      0      0\n",
            "       0      0      0      0]\n",
            " [     0      0      0      0      0      0      0      0    370      0\n",
            "       0      0      0      0]\n",
            " [     0      0      0      0      0      0      0      0      0    320\n",
            "       0      0      0      0]\n",
            " [     0      0      0      0      0      0      0      0      0      0\n",
            "     251      0      0      0]\n",
            " [     0      0      0      0      0      0      0      0      0      0\n",
            "       0    103      0      0]\n",
            " [     0      0      0      0      0      0      0      0      0      0\n",
            "       0      0     41      0]\n",
            " [     0      0      0      0      0      0      0      0      0      0\n",
            "       0      0      0     32]]\n"
          ]
        },
        {
          "output_type": "display_data",
          "data": {
            "text/plain": [
              "<Figure size 1080x720 with 2 Axes>"
            ],
            "image/png": "[encoded data removed]"
          },
          "metadata": {
            "needs_background": "light"
          }
        }
      ],
      "source": [
        "#visualse the result of the predictions by using the confusion matrix method\n",
        "y_true = rfpredicted.select(\"Attack_cat\")\n",
        "y_true = y_true.toPandas()\n",
        "\n",
        "y_pred = lbpredicted.select(\"predictedLabel\")\n",
        "y_pred = y_pred.toPandas()\n",
        "\n",
        "cnf_matrix = confusion_matrix(y_true, y_pred, labels = class_temp)\n",
        "\n",
        "plt.figure(figsize=(15,10))\n",
        "plot_confusion_matrix(cnf_matrix, classes=class_temp, title='Confusion matrix, without normalization')\n",
        "plt.show()"
      ]
    },
    {
      "cell_type": "markdown",
      "metadata": {
        "id": "mIM6uLApSxi2"
      },
      "source": [
        "# **Convert ipynb to HTML for Turnitin submission**\n",
        "\n",
        "---\n",
        "\n"
      ]
    },
    {
      "cell_type": "code",
      "execution_count": null,
      "metadata": {
        "colab": {
          "base_uri": "https://localhost:8080/"
        },
        "id": "ZrQu11N_DCfZ",
        "outputId": "5eed08ba-9d42-4c18-b547-115ffc9d3197"
      },
      "outputs": [
        {
          "output_type": "stream",
          "name": "stdout",
          "text": [
            "Requirement already satisfied: nbconvert in /usr/local/lib/python3.7/dist-packages (5.6.1)\n",
            "Requirement already satisfied: mistune<2,>=0.8.1 in /usr/local/lib/python3.7/dist-packages (from nbconvert) (0.8.4)\n",
            "Requirement already satisfied: pygments in /usr/local/lib/python3.7/dist-packages (from nbconvert) (2.6.1)\n",
            "Requirement already satisfied: traitlets>=4.2 in /usr/local/lib/python3.7/dist-packages (from nbconvert) (5.1.1)\n",
            "Requirement already satisfied: nbformat>=4.4 in /usr/local/lib/python3.7/dist-packages (from nbconvert) (5.3.0)\n",
            "Requirement already satisfied: entrypoints>=0.2.2 in /usr/local/lib/python3.7/dist-packages (from nbconvert) (0.4)\n",
            "Requirement already satisfied: testpath in /usr/local/lib/python3.7/dist-packages (from nbconvert) (0.6.0)\n",
            "Requirement already satisfied: jupyter-core in /usr/local/lib/python3.7/dist-packages (from nbconvert) (4.10.0)\n",
            "Requirement already satisfied: bleach in /usr/local/lib/python3.7/dist-packages (from nbconvert) (5.0.0)\n",
            "Requirement already satisfied: pandocfilters>=1.4.1 in /usr/local/lib/python3.7/dist-packages (from nbconvert) (1.5.0)\n",
            "Requirement already satisfied: jinja2>=2.4 in /usr/local/lib/python3.7/dist-packages (from nbconvert) (2.11.3)\n",
            "Requirement already satisfied: defusedxml in /usr/local/lib/python3.7/dist-packages (from nbconvert) (0.7.1)\n",
            "Requirement already satisfied: MarkupSafe>=0.23 in /usr/local/lib/python3.7/dist-packages (from jinja2>=2.4->nbconvert) (2.0.1)\n",
            "Requirement already satisfied: jsonschema>=2.6 in /usr/local/lib/python3.7/dist-packages (from nbformat>=4.4->nbconvert) (4.3.3)\n",
            "Requirement already satisfied: fastjsonschema in /usr/local/lib/python3.7/dist-packages (from nbformat>=4.4->nbconvert) (2.15.3)\n",
            "Requirement already satisfied: typing-extensions in /usr/local/lib/python3.7/dist-packages (from jsonschema>=2.6->nbformat>=4.4->nbconvert) (4.2.0)\n",
            "Requirement already satisfied: pyrsistent!=0.17.0,!=0.17.1,!=0.17.2,>=0.14.0 in /usr/local/lib/python3.7/dist-packages (from jsonschema>=2.6->nbformat>=4.4->nbconvert) (0.18.1)\n",
            "Requirement already satisfied: importlib-resources>=1.4.0 in /usr/local/lib/python3.7/dist-packages (from jsonschema>=2.6->nbformat>=4.4->nbconvert) (5.7.1)\n",
            "Requirement already satisfied: importlib-metadata in /usr/local/lib/python3.7/dist-packages (from jsonschema>=2.6->nbformat>=4.4->nbconvert) (4.11.3)\n",
            "Requirement already satisfied: attrs>=17.4.0 in /usr/local/lib/python3.7/dist-packages (from jsonschema>=2.6->nbformat>=4.4->nbconvert) (21.4.0)\n",
            "Requirement already satisfied: zipp>=3.1.0 in /usr/local/lib/python3.7/dist-packages (from importlib-resources>=1.4.0->jsonschema>=2.6->nbformat>=4.4->nbconvert) (3.8.0)\n",
            "Requirement already satisfied: webencodings in /usr/local/lib/python3.7/dist-packages (from bleach->nbconvert) (0.5.1)\n",
            "Requirement already satisfied: six>=1.9.0 in /usr/local/lib/python3.7/dist-packages (from bleach->nbconvert) (1.15.0)\n"
          ]
        }
      ],
      "source": [
        "!pip3 install nbconvert "
      ]
    },
    {
      "cell_type": "code",
      "execution_count": null,
      "metadata": {
        "colab": {
          "base_uri": "https://localhost:8080/"
        },
        "id": "ReZWnCYdDH66",
        "outputId": "8398e5a7-2ef4-4494-f92d-dfc4593b01e8"
      },
      "outputs": [
        {
          "output_type": "stream",
          "name": "stdout",
          "text": [
            "[NbConvertApp] Converting notebook drive/My Drive/Colab Notebooks/Group11_for_ML_CN7030.ipynb to html\n",
            "[NbConvertApp] Writing 480060 bytes to drive/My Drive/Colab Notebooks/Group11_for_ML_CN7030.html\n"
          ]
        }
      ],
      "source": [
        "!jupyter nbconvert  --to html 'drive/My Drive/Colab Notebooks/Group11_for_ML_CN7030.ipynb'"
      ]
    }
  ],
  "metadata": {
    "colab": {
      "collapsed_sections": [
        "Lx9-Fre4FMda"
      ],
      "provenance": []
    },
    "kernelspec": {
      "display_name": "Python 3",
      "name": "python3"
    }
  },
  "nbformat": 4,
  "nbformat_minor": 0
}
